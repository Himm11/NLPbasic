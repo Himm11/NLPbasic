{
  "cells": [
    {
      "cell_type": "markdown",
      "metadata": {
        "id": "view-in-github",
        "colab_type": "text"
      },
      "source": [
        "<a href=\"https://colab.research.google.com/github/Himm11/NLPbasic/blob/main/tree.ipynb\" target=\"_parent\"><img src=\"https://colab.research.google.com/assets/colab-badge.svg\" alt=\"Open In Colab\"/></a>"
      ]
    },
    {
      "cell_type": "code",
      "execution_count": null,
      "metadata": {
        "id": "NyGIMhvx00KC"
      },
      "outputs": [],
      "source": [
        "import spacy\n",
        "\n",
        "nlp = spacy.load(\"en_core_web_sm\")"
      ]
    },
    {
      "cell_type": "code",
      "execution_count": null,
      "metadata": {
        "colab": {
          "base_uri": "https://localhost:8080/"
        },
        "id": "mKRNKZGG2Biz",
        "outputId": "70d5ae64-3bba-4c10-871e-cd2845f420d9"
      },
      "outputs": [
        {
          "name": "stdout",
          "output_type": "stream",
          "text": [
            "TOKEN: Namjoon \n",
            "  token.tag_ = 'NNP' \n",
            "  token.head.text = 'loves' \n",
            "  token.dep_ = 'nsubj'\n",
            "TOKEN: loves \n",
            "  token.tag_ = 'VBZ' \n",
            "  token.head.text = 'loves' \n",
            "  token.dep_ = 'ROOT'\n",
            "TOKEN: bicycling \n",
            "  token.tag_ = 'NN' \n",
            "  token.head.text = 'books' \n",
            "  token.dep_ = 'nmod'\n",
            "TOKEN: and \n",
            "  token.tag_ = 'CC' \n",
            "  token.head.text = 'bicycling' \n",
            "  token.dep_ = 'cc'\n",
            "TOKEN: reading \n",
            "  token.tag_ = 'VBG' \n",
            "  token.head.text = 'bicycling' \n",
            "  token.dep_ = 'conj'\n",
            "TOKEN: books \n",
            "  token.tag_ = 'NNS' \n",
            "  token.head.text = 'loves' \n",
            "  token.dep_ = 'dobj'\n"
          ]
        }
      ],
      "source": [
        "piano_text = \"Namjoon loves bicycling and reading books\"\n",
        "piano_doc = nlp(piano_text)\n",
        "for token in piano_doc:\n",
        "  print(f\"\"\"TOKEN: {token.text}\n",
        "  {token.tag_ = }\n",
        "  {token.head.text = }\n",
        "  {token.dep_ = }\"\"\")"
      ]
    },
    {
      "cell_type": "code",
      "execution_count": null,
      "metadata": {
        "colab": {
          "background_save": true,
          "base_uri": "https://localhost:8080/"
        },
        "id": "-BOlxREFBWin",
        "outputId": "e69f85b3-f6be-4f5e-fb71-d58ab9254e4a"
      },
      "outputs": [
        {
          "name": "stdout",
          "output_type": "stream",
          "text": [
            "\n",
            "Using the 'ent' visualizer\n",
            "Serving on http://0.0.0.0:5000 ...\n",
            "\n"
          ]
        }
      ],
      "source": [
        " import spacy\n",
        " from spacy import displacy\n",
        "\n",
        " doc= nlp('Bill Gates is the CEO of Microsoft.')\n",
        " displacy.serve(doc, style='ent')"
      ]
    }
  ],
  "metadata": {
    "colab": {
      "provenance": [],
      "authorship_tag": "ABX9TyOzFeVLGkRMEsKUarJVCWTE",
      "include_colab_link": true
    },
    "kernelspec": {
      "display_name": "Python 3",
      "name": "python3"
    },
    "language_info": {
      "name": "python"
    }
  },
  "nbformat": 4,
  "nbformat_minor": 0
}